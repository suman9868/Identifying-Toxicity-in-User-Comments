{
  "nbformat": 4,
  "nbformat_minor": 0,
  "metadata": {
    "colab": {
      "name": "CNN SMOTE .ipynb",
      "version": "0.3.2",
      "provenance": []
    },
    "kernelspec": {
      "name": "python2",
      "display_name": "Python 2"
    }
  },
  "cells": [
    {
      "metadata": {
        "id": "n8vGfAJWbxBE",
        "colab_type": "code",
        "outputId": "8b219c56-4884-424f-edac-393312521133",
        "colab": {
          "base_uri": "https://localhost:8080/",
          "height": 51
        }
      },
      "cell_type": "code",
      "source": [
        "from google.colab import drive\n",
        "drive.mount('/content/drive')\n",
        "print('done')"
      ],
      "execution_count": 0,
      "outputs": [
        {
          "output_type": "stream",
          "text": [
            "Drive already mounted at /content/drive; to attempt to forcibly remount, call drive.mount(\"/content/drive\", force_remount=True).\n",
            "done\n"
          ],
          "name": "stdout"
        }
      ]
    },
    {
      "metadata": {
        "id": "84DxfvN6b-2A",
        "colab_type": "code",
        "colab": {}
      },
      "cell_type": "code",
      "source": [
        "import pandas as pandas \n",
        "import numpy as numpy\n",
        "import seaborn as sb\n",
        "import matplotlib.pyplot as plt\n",
        "from sklearn.model_selection import train_test_split"
      ],
      "execution_count": 0,
      "outputs": []
    },
    {
      "metadata": {
        "id": "-FBY1nbxcM-h",
        "colab_type": "code",
        "outputId": "d127a1e3-cbc3-4d1e-efb8-d6df2376aa9d",
        "colab": {
          "base_uri": "https://localhost:8080/",
          "height": 204
        }
      },
      "cell_type": "code",
      "source": [
        "data = pandas.read_csv('/content/drive/My Drive/SML/preprocessed_data1_28_04_19.csv', index_col=0)#, sep = '\\t')\n",
        "data.head()"
      ],
      "execution_count": 0,
      "outputs": [
        {
          "output_type": "execute_result",
          "data": {
            "text/html": [
              "<div>\n",
              "<style scoped>\n",
              "    .dataframe tbody tr th:only-of-type {\n",
              "        vertical-align: middle;\n",
              "    }\n",
              "\n",
              "    .dataframe tbody tr th {\n",
              "        vertical-align: top;\n",
              "    }\n",
              "\n",
              "    .dataframe thead th {\n",
              "        text-align: right;\n",
              "    }\n",
              "</style>\n",
              "<table border=\"1\" class=\"dataframe\">\n",
              "  <thead>\n",
              "    <tr style=\"text-align: right;\">\n",
              "      <th></th>\n",
              "      <th>comment_text</th>\n",
              "      <th>toxic</th>\n",
              "      <th>severe_toxic</th>\n",
              "      <th>obscene</th>\n",
              "      <th>threat</th>\n",
              "      <th>insult</th>\n",
              "      <th>identity_hate</th>\n",
              "    </tr>\n",
              "  </thead>\n",
              "  <tbody>\n",
              "    <tr>\n",
              "      <th>0</th>\n",
              "      <td>explanation why the edits made under my userna...</td>\n",
              "      <td>0</td>\n",
              "      <td>0</td>\n",
              "      <td>0</td>\n",
              "      <td>0</td>\n",
              "      <td>0</td>\n",
              "      <td>0</td>\n",
              "    </tr>\n",
              "    <tr>\n",
              "      <th>1</th>\n",
              "      <td>d aww he matches this background colour i am s...</td>\n",
              "      <td>0</td>\n",
              "      <td>0</td>\n",
              "      <td>0</td>\n",
              "      <td>0</td>\n",
              "      <td>0</td>\n",
              "      <td>0</td>\n",
              "    </tr>\n",
              "    <tr>\n",
              "      <th>2</th>\n",
              "      <td>hey man i am really not trying to edit war it ...</td>\n",
              "      <td>0</td>\n",
              "      <td>0</td>\n",
              "      <td>0</td>\n",
              "      <td>0</td>\n",
              "      <td>0</td>\n",
              "      <td>0</td>\n",
              "    </tr>\n",
              "    <tr>\n",
              "      <th>3</th>\n",
              "      <td>more i cannot make any real suggestions on imp...</td>\n",
              "      <td>0</td>\n",
              "      <td>0</td>\n",
              "      <td>0</td>\n",
              "      <td>0</td>\n",
              "      <td>0</td>\n",
              "      <td>0</td>\n",
              "    </tr>\n",
              "    <tr>\n",
              "      <th>4</th>\n",
              "      <td>you sir are my hero any chance you remember wh...</td>\n",
              "      <td>0</td>\n",
              "      <td>0</td>\n",
              "      <td>0</td>\n",
              "      <td>0</td>\n",
              "      <td>0</td>\n",
              "      <td>0</td>\n",
              "    </tr>\n",
              "  </tbody>\n",
              "</table>\n",
              "</div>"
            ],
            "text/plain": [
              "                                        comment_text  toxic  severe_toxic  \\\n",
              "0  explanation why the edits made under my userna...      0             0   \n",
              "1  d aww he matches this background colour i am s...      0             0   \n",
              "2  hey man i am really not trying to edit war it ...      0             0   \n",
              "3  more i cannot make any real suggestions on imp...      0             0   \n",
              "4  you sir are my hero any chance you remember wh...      0             0   \n",
              "\n",
              "   obscene  threat  insult  identity_hate  \n",
              "0        0       0       0              0  \n",
              "1        0       0       0              0  \n",
              "2        0       0       0              0  \n",
              "3        0       0       0              0  \n",
              "4        0       0       0              0  "
            ]
          },
          "metadata": {
            "tags": []
          },
          "execution_count": 3
        }
      ]
    },
    {
      "metadata": {
        "id": "qcATUDsiKSFG",
        "colab_type": "code",
        "outputId": "9dca5b92-89e9-4929-fafc-2cbe97911a25",
        "colab": {
          "base_uri": "https://localhost:8080/",
          "height": 51
        }
      },
      "cell_type": "code",
      "source": [
        "print(numpy.where(pandas.isnull(data)))\n",
        "data['comment_text'].replace('', numpy.nan, inplace=True) # replace empty cell by nan number\n",
        "data.dropna(subset=['comment_text'], inplace=True)\n",
        "print(numpy.where(pandas.isnull(data)))"
      ],
      "execution_count": 0,
      "outputs": [
        {
          "output_type": "stream",
          "text": [
            "(array([ 4482,  6300, 17311, 52442, 53787, 61758, 82681]), array([0, 0, 0, 0, 0, 0, 0]))\n",
            "(array([], dtype=int64), array([], dtype=int64))\n"
          ],
          "name": "stdout"
        }
      ]
    },
    {
      "metadata": {
        "id": "1erQaB2rKjd5",
        "colab_type": "code",
        "outputId": "85e0e8d2-8a34-41de-952f-bd5b8a060a13",
        "colab": {
          "base_uri": "https://localhost:8080/",
          "height": 34
        }
      },
      "cell_type": "code",
      "source": [
        "from keras.preprocessing.text import Tokenizer\n",
        "from keras.preprocessing.sequence import pad_sequences"
      ],
      "execution_count": 0,
      "outputs": [
        {
          "output_type": "stream",
          "text": [
            "Using TensorFlow backend.\n"
          ],
          "name": "stderr"
        }
      ]
    },
    {
      "metadata": {
        "id": "zIP5aL7VKTd4",
        "colab_type": "code",
        "colab": {}
      },
      "cell_type": "code",
      "source": [
        "vocab_size = 40000\n",
        "tokenizer = Tokenizer(num_words= vocab_size)\n",
        "tokenizer.fit_on_texts(data['comment_text'])\n",
        "\n",
        "maxLen = 250\n",
        "sequences = tokenizer.texts_to_sequences(data['comment_text'])\n",
        "dd = pad_sequences(sequences, maxlen=maxLen)"
      ],
      "execution_count": 0,
      "outputs": []
    },
    {
      "metadata": {
        "id": "oWrXzKV-KyK3",
        "colab_type": "code",
        "outputId": "7f4d0d47-9634-4eb7-ec26-c2d28dd29b47",
        "colab": {
          "base_uri": "https://localhost:8080/",
          "height": 34
        }
      },
      "cell_type": "code",
      "source": [
        "print(dd.shape)"
      ],
      "execution_count": 0,
      "outputs": [
        {
          "output_type": "stream",
          "text": [
            "(159564, 250)\n"
          ],
          "name": "stdout"
        }
      ]
    },
    {
      "metadata": {
        "id": "YsFRJP-eLC1Y",
        "colab_type": "code",
        "colab": {}
      },
      "cell_type": "code",
      "source": [
        ""
      ],
      "execution_count": 0,
      "outputs": []
    },
    {
      "metadata": {
        "id": "qTykWSIaZ9cN",
        "colab_type": "code",
        "outputId": "301c42d0-3931-4d8f-b43f-efe006623670",
        "colab": {
          "base_uri": "https://localhost:8080/",
          "height": 153
        }
      },
      "cell_type": "code",
      "source": [
        "# label\n",
        "label = data[data.columns[1:]].values\n",
        "print(label.shape)\n",
        "print(label)"
      ],
      "execution_count": 0,
      "outputs": [
        {
          "output_type": "stream",
          "text": [
            "(159564, 6)\n",
            "[[0 0 0 0 0 0]\n",
            " [0 0 0 0 0 0]\n",
            " [0 0 0 0 0 0]\n",
            " ...\n",
            " [0 0 0 0 0 0]\n",
            " [0 0 0 0 0 0]\n",
            " [0 0 0 0 0 0]]\n"
          ],
          "name": "stdout"
        }
      ]
    },
    {
      "metadata": {
        "id": "m7lkyviJSyuL",
        "colab_type": "code",
        "colab": {}
      },
      "cell_type": "code",
      "source": [
        "from imblearn.over_sampling import SMOTE\n",
        "\n",
        "smote = SMOTE(random_state=0)"
      ],
      "execution_count": 0,
      "outputs": []
    },
    {
      "metadata": {
        "id": "sQUYWoNdcqFc",
        "colab_type": "code",
        "colab": {}
      },
      "cell_type": "code",
      "source": [
        "from keras.models import Sequential\n",
        "from keras.layers import Dense\n",
        "from keras.optimizers import Adam"
      ],
      "execution_count": 0,
      "outputs": []
    },
    {
      "metadata": {
        "id": "PyAbiAOSlVvd",
        "colab_type": "code",
        "colab": {}
      },
      "cell_type": "code",
      "source": [
        "# from keras.layers.embeddings import Embedding\n",
        "\n",
        "from keras.layers.embeddings import Embedding\n",
        "\n",
        "from keras.layers import Flatten, Conv1D, MaxPooling1D, Dropout, Activation, GlobalMaxPooling1D"
      ],
      "execution_count": 0,
      "outputs": []
    },
    {
      "metadata": {
        "id": "9xunZd7DQ9nB",
        "colab_type": "code",
        "colab": {}
      },
      "cell_type": "code",
      "source": [
        "import keras_metrics\n",
        "from sklearn.metrics import precision_score, recall_score"
      ],
      "execution_count": 0,
      "outputs": []
    },
    {
      "metadata": {
        "id": "gt1Dr1xhfOSe",
        "colab_type": "code",
        "outputId": "b007862a-9b54-4aac-eef3-0f62dfd91e88",
        "colab": {
          "base_uri": "https://localhost:8080/",
          "height": 139
        }
      },
      "cell_type": "code",
      "source": [
        "model_conv = Sequential()\n",
        "model_conv.add(Embedding(vocab_size, 100, input_length=maxLen))\n",
        "\n",
        "model_conv.add(Dropout(0.2))\n",
        "\n",
        "model_conv.add(Conv1D(100, 6, activation='relu'))\n",
        "model_conv.add(MaxPooling1D(pool_size=4))\n",
        "\n",
        "# model_conv.add(GlobalMaxPooling1D())\n",
        "model_conv.add(Dropout(0.2))\n",
        "\n",
        "model_conv.add(Conv1D(64, 6, activation='relu'))\n",
        "model_conv.add(MaxPooling1D(pool_size=4))\n",
        "\n",
        "# model_conv.add(GlobalMaxPooling1D())\n",
        "model_conv.add(Dropout(0.2))\n",
        "# model_conv.add(Conv1D(32, 4, activation='relu'))\n",
        "# model_conv.add(MaxPooling1D(pool_size=4))\n",
        "\n",
        "# model_conv.add(Conv1D(32, 4, activation='relu'))\n",
        "# model_conv.add(MaxPooling1D(pool_size=4))\n",
        "\n",
        "model_conv.add(Flatten())\n",
        "model_conv.add(Dense(64, activation='relu'))\n",
        "\n",
        "model_conv.add(Dropout(0.2))\n",
        "model_conv.add(Dense(64, activation='relu'))\n",
        "\n",
        "model_conv.add(Dropout(0.2))\n",
        "model_conv.add(Dense(1, activation='sigmoid'))\n",
        "\n",
        "#model_conv.compile(loss='binary_crossentropy', optimizer=Adam(lr=0.001), metrics=['accuracy'])\n",
        "model_conv.compile(loss='binary_crossentropy', optimizer=Adam(lr=0.1), metrics=['accuracy', keras_metrics.precision(), keras_metrics.recall()])#metrics=['accuracy'])\n",
        "# model_conv.compile(loss='binary_crossentropy', optimizer=Adam(lr=0.1), metrics=[keras_metrics.recall()])#metrics=['accuracy'])\n",
        "\n",
        "# model_conv.fit(padded_docs, label, epochs=2, validation_split=.2)"
      ],
      "execution_count": 0,
      "outputs": [
        {
          "output_type": "stream",
          "text": [
            "WARNING:tensorflow:From /usr/local/lib/python2.7/dist-packages/tensorflow/python/framework/op_def_library.py:263: colocate_with (from tensorflow.python.framework.ops) is deprecated and will be removed in a future version.\n",
            "Instructions for updating:\n",
            "Colocations handled automatically by placer.\n",
            "WARNING:tensorflow:From /usr/local/lib/python2.7/dist-packages/keras/backend/tensorflow_backend.py:3445: calling dropout (from tensorflow.python.ops.nn_ops) with keep_prob is deprecated and will be removed in a future version.\n",
            "Instructions for updating:\n",
            "Please use `rate` instead of `keep_prob`. Rate should be set to `rate = 1 - keep_prob`.\n"
          ],
          "name": "stdout"
        }
      ]
    },
    {
      "metadata": {
        "id": "VR_YSb7RRPoe",
        "colab_type": "code",
        "outputId": "7738e4c0-9f7d-4cd9-cb77-9cf28ea99400",
        "colab": {
          "base_uri": "https://localhost:8080/",
          "height": 180
        }
      },
      "cell_type": "code",
      "source": [
        "col = data.columns[1:]\n",
        "print(col)"
      ],
      "execution_count": 0,
      "outputs": [
        {
          "output_type": "error",
          "ename": "NameError",
          "evalue": "ignored",
          "traceback": [
            "\u001b[0;31m\u001b[0m",
            "\u001b[0;31mNameError\u001b[0mTraceback (most recent call last)",
            "\u001b[0;32m<ipython-input-2-65d0bbc3527c>\u001b[0m in \u001b[0;36m<module>\u001b[0;34m()\u001b[0m\n\u001b[0;32m----> 1\u001b[0;31m \u001b[0mcol\u001b[0m \u001b[0;34m=\u001b[0m \u001b[0mdata\u001b[0m\u001b[0;34m.\u001b[0m\u001b[0mcolumns\u001b[0m\u001b[0;34m[\u001b[0m\u001b[0;36m1\u001b[0m\u001b[0;34m:\u001b[0m\u001b[0;34m]\u001b[0m\u001b[0;34m\u001b[0m\u001b[0m\n\u001b[0m\u001b[1;32m      2\u001b[0m \u001b[0;32mprint\u001b[0m\u001b[0;34m(\u001b[0m\u001b[0mcol\u001b[0m\u001b[0;34m)\u001b[0m\u001b[0;34m\u001b[0m\u001b[0m\n",
            "\u001b[0;31mNameError\u001b[0m: name 'data' is not defined"
          ]
        }
      ]
    },
    {
      "metadata": {
        "id": "Dx6yuH_qRXAE",
        "colab_type": "code",
        "outputId": "6108f6aa-d676-47ea-c778-cc92d44a2458",
        "colab": {
          "base_uri": "https://localhost:8080/",
          "height": 275
        }
      },
      "cell_type": "code",
      "source": [
        "# model_nn.fit(train, label, epochs=2, validation_split=.2)\n",
        "for i in range(6):\n",
        "    #print(label[:,i:].shape)\n",
        "    #print(label[:,i:])\n",
        "    print(col[i])\n",
        "    print(\"-------------------------------------------------------------------------------------------------------------------\")\n",
        "    l = label[:,i].reshape((len(label), 1))\n",
        "    print(l.shape)\n",
        "    \n",
        "    x_train, x_test, y_train, y_test = train_test_split(dd, l, test_size=0.3, random_state=0)\n",
        "    \n",
        "    x_train_smote, y_train_smote = smote.fit_sample(x_train, y_train)\n",
        "\n",
        "    \n",
        "    \n",
        "    #model_conv.fit(dd, l, batch_size=512, epochs=2, validation_split=.3)\n",
        "    model_conv.fit(x_train_smote, y_train_smote, batch_size=512, epochs=10, validation_data=(x_test, y_test))\n",
        "    #break"
      ],
      "execution_count": 0,
      "outputs": [
        {
          "output_type": "stream",
          "text": [
            "toxic\n",
            "-------------------------------------------------------------------------------------------------------------------\n",
            "(159564, 1)\n"
          ],
          "name": "stdout"
        },
        {
          "output_type": "stream",
          "text": [
            "/usr/local/lib/python2.7/dist-packages/sklearn/utils/validation.py:761: DataConversionWarning: A column-vector y was passed when a 1d array was expected. Please change the shape of y to (n_samples, ), for example using ravel().\n",
            "  y = column_or_1d(y, warn=True)\n"
          ],
          "name": "stderr"
        },
        {
          "output_type": "stream",
          "text": [
            "Train on 201920 samples, validate on 47870 samples\n",
            "Epoch 1/10\n",
            "201920/201920 [==============================] - 1439s 7ms/step - loss: 7.9713 - acc: 0.5000 - precision: 0.5000 - recall: 1.0000 - val_loss: 14.4237 - val_acc: 0.0953 - val_precision: 0.0953 - val_recall: 1.0000\n",
            "Epoch 2/10\n",
            "201920/201920 [==============================] - 1436s 7ms/step - loss: 7.9711 - acc: 0.5000 - precision: 0.5000 - recall: 1.0000 - val_loss: 14.4237 - val_acc: 0.0953 - val_precision: 0.0953 - val_recall: 1.0000\n",
            "Epoch 3/10\n",
            "201920/201920 [==============================] - 1544s 8ms/step - loss: 7.9712 - acc: 0.5000 - precision: 0.5000 - recall: 1.0000 - val_loss: 14.4237 - val_acc: 0.0953 - val_precision: 0.0953 - val_recall: 1.0000\n",
            "Epoch 4/10\n",
            "  4608/201920 [..............................] - ETA: 27:42 - loss: 7.9850 - acc: 0.4991 - precision: 0.4991 - recall: 1.0000"
          ],
          "name": "stdout"
        }
      ]
    },
    {
      "metadata": {
        "id": "TQ57Mkzt4VQD",
        "colab_type": "code",
        "outputId": "038b96de-6927-4a9f-8161-ac201cd48ef6",
        "colab": {
          "base_uri": "https://localhost:8080/",
          "height": 231
        }
      },
      "cell_type": "code",
      "source": [
        "# # model_nn.fit(train, label, epochs=2, validation_split=.2)\n",
        "# for i in range(6):\n",
        "#     #print(label[:,i:].shape)\n",
        "#     #print(label[:,i:])\n",
        "#     print(col[i])\n",
        "#     print(\"-------------------------------------------------------------------------------------------------------------------\")\n",
        "#     l = label[:,i].reshape((len(label), 1))\n",
        "#     print(l.shape)\n",
        "    \n",
        "#     x_train, x_test, y_train, y_test = train_test_split(dd, l, test_size=0.3, random_state=0)\n",
        "    \n",
        "#     x_train_smote, y_train_smote = smote.fit_sample(x_train, y_train)\n",
        "\n",
        "    \n",
        "    \n",
        "#     #model_conv.fit(dd, l, batch_size=512, epochs=2, validation_split=.3)\n",
        "#     model_conv.fit(x_train_smote, y_train_smote, batch_size=512, epochs=10, validation_data=(x_test, y_test))\n",
        "#     #break"
      ],
      "execution_count": 0,
      "outputs": [
        {
          "output_type": "error",
          "ename": "NameError",
          "evalue": "ignored",
          "traceback": [
            "\u001b[0;31m\u001b[0m",
            "\u001b[0;31mNameError\u001b[0mTraceback (most recent call last)",
            "\u001b[0;32m<ipython-input-3-6ccea206d4aa>\u001b[0m in \u001b[0;36m<module>\u001b[0;34m()\u001b[0m\n\u001b[1;32m      2\u001b[0m     \u001b[0;31m#print(label[:,i:].shape)\u001b[0m\u001b[0;34m\u001b[0m\u001b[0;34m\u001b[0m\u001b[0m\n\u001b[1;32m      3\u001b[0m     \u001b[0;31m#print(label[:,i:])\u001b[0m\u001b[0;34m\u001b[0m\u001b[0;34m\u001b[0m\u001b[0m\n\u001b[0;32m----> 4\u001b[0;31m     \u001b[0;32mprint\u001b[0m\u001b[0;34m(\u001b[0m\u001b[0mcol\u001b[0m\u001b[0;34m[\u001b[0m\u001b[0mi\u001b[0m\u001b[0;34m]\u001b[0m\u001b[0;34m)\u001b[0m\u001b[0;34m\u001b[0m\u001b[0m\n\u001b[0m\u001b[1;32m      5\u001b[0m     \u001b[0;32mprint\u001b[0m\u001b[0;34m(\u001b[0m\u001b[0;34m\"-------------------------------------------------------------------------------------------------------------------\"\u001b[0m\u001b[0;34m)\u001b[0m\u001b[0;34m\u001b[0m\u001b[0m\n\u001b[1;32m      6\u001b[0m     \u001b[0ml\u001b[0m \u001b[0;34m=\u001b[0m \u001b[0mlabel\u001b[0m\u001b[0;34m[\u001b[0m\u001b[0;34m:\u001b[0m\u001b[0;34m,\u001b[0m\u001b[0mi\u001b[0m\u001b[0;34m]\u001b[0m\u001b[0;34m.\u001b[0m\u001b[0mreshape\u001b[0m\u001b[0;34m(\u001b[0m\u001b[0;34m(\u001b[0m\u001b[0mlen\u001b[0m\u001b[0;34m(\u001b[0m\u001b[0mlabel\u001b[0m\u001b[0;34m)\u001b[0m\u001b[0;34m,\u001b[0m \u001b[0;36m1\u001b[0m\u001b[0;34m)\u001b[0m\u001b[0;34m)\u001b[0m\u001b[0;34m\u001b[0m\u001b[0m\n",
            "\u001b[0;31mNameError\u001b[0m: name 'col' is not defined"
          ]
        }
      ]
    },
    {
      "metadata": {
        "id": "P8EG8YV7Z-FD",
        "colab_type": "text"
      },
      "cell_type": "markdown",
      "source": [
        "**rough below**"
      ]
    }
  ]
}