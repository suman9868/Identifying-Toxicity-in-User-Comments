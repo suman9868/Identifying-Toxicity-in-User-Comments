{
  "nbformat": 4,
  "nbformat_minor": 0,
  "metadata": {
    "colab": {
      "name": "CNN .ipynb",
      "version": "0.3.2",
      "provenance": []
    },
    "kernelspec": {
      "name": "python2",
      "display_name": "Python 2"
    }
  },
  "cells": [
    {
      "metadata": {
        "id": "n8vGfAJWbxBE",
        "colab_type": "code",
        "outputId": "1c88bba3-5c48-4fa3-8100-e0d66003140e",
        "colab": {
          "base_uri": "https://localhost:8080/",
          "height": 51
        }
      },
      "cell_type": "code",
      "source": [
        "from google.colab import drive\n",
        "drive.mount('/content/drive')\n",
        "print('done')"
      ],
      "execution_count": 0,
      "outputs": [
        {
          "output_type": "stream",
          "text": [
            "Drive already mounted at /content/drive; to attempt to forcibly remount, call drive.mount(\"/content/drive\", force_remount=True).\n",
            "done\n"
          ],
          "name": "stdout"
        }
      ]
    },
    {
      "metadata": {
        "id": "84DxfvN6b-2A",
        "colab_type": "code",
        "colab": {}
      },
      "cell_type": "code",
      "source": [
        "import pandas as pandas \n",
        "import numpy as numpy\n",
        "import seaborn as sb\n",
        "import matplotlib.pyplot as plt"
      ],
      "execution_count": 0,
      "outputs": []
    },
    {
      "metadata": {
        "id": "-FBY1nbxcM-h",
        "colab_type": "code",
        "outputId": "40349847-5727-4df4-b9d1-b9fd24f81d67",
        "colab": {
          "base_uri": "https://localhost:8080/",
          "height": 204
        }
      },
      "cell_type": "code",
      "source": [
        "data = pandas.read_csv('/content/drive/My Drive/SML/preprocessed_data1_28_04_19.csv', index_col=0)#, sep = '\\t')\n",
        "data.head()"
      ],
      "execution_count": 0,
      "outputs": [
        {
          "output_type": "execute_result",
          "data": {
            "text/html": [
              "<div>\n",
              "<style scoped>\n",
              "    .dataframe tbody tr th:only-of-type {\n",
              "        vertical-align: middle;\n",
              "    }\n",
              "\n",
              "    .dataframe tbody tr th {\n",
              "        vertical-align: top;\n",
              "    }\n",
              "\n",
              "    .dataframe thead th {\n",
              "        text-align: right;\n",
              "    }\n",
              "</style>\n",
              "<table border=\"1\" class=\"dataframe\">\n",
              "  <thead>\n",
              "    <tr style=\"text-align: right;\">\n",
              "      <th></th>\n",
              "      <th>comment_text</th>\n",
              "      <th>toxic</th>\n",
              "      <th>severe_toxic</th>\n",
              "      <th>obscene</th>\n",
              "      <th>threat</th>\n",
              "      <th>insult</th>\n",
              "      <th>identity_hate</th>\n",
              "    </tr>\n",
              "  </thead>\n",
              "  <tbody>\n",
              "    <tr>\n",
              "      <th>0</th>\n",
              "      <td>explanation why the edits made under my userna...</td>\n",
              "      <td>0</td>\n",
              "      <td>0</td>\n",
              "      <td>0</td>\n",
              "      <td>0</td>\n",
              "      <td>0</td>\n",
              "      <td>0</td>\n",
              "    </tr>\n",
              "    <tr>\n",
              "      <th>1</th>\n",
              "      <td>d aww he matches this background colour i am s...</td>\n",
              "      <td>0</td>\n",
              "      <td>0</td>\n",
              "      <td>0</td>\n",
              "      <td>0</td>\n",
              "      <td>0</td>\n",
              "      <td>0</td>\n",
              "    </tr>\n",
              "    <tr>\n",
              "      <th>2</th>\n",
              "      <td>hey man i am really not trying to edit war it ...</td>\n",
              "      <td>0</td>\n",
              "      <td>0</td>\n",
              "      <td>0</td>\n",
              "      <td>0</td>\n",
              "      <td>0</td>\n",
              "      <td>0</td>\n",
              "    </tr>\n",
              "    <tr>\n",
              "      <th>3</th>\n",
              "      <td>more i cannot make any real suggestions on imp...</td>\n",
              "      <td>0</td>\n",
              "      <td>0</td>\n",
              "      <td>0</td>\n",
              "      <td>0</td>\n",
              "      <td>0</td>\n",
              "      <td>0</td>\n",
              "    </tr>\n",
              "    <tr>\n",
              "      <th>4</th>\n",
              "      <td>you sir are my hero any chance you remember wh...</td>\n",
              "      <td>0</td>\n",
              "      <td>0</td>\n",
              "      <td>0</td>\n",
              "      <td>0</td>\n",
              "      <td>0</td>\n",
              "      <td>0</td>\n",
              "    </tr>\n",
              "  </tbody>\n",
              "</table>\n",
              "</div>"
            ],
            "text/plain": [
              "                                        comment_text  toxic  severe_toxic  \\\n",
              "0  explanation why the edits made under my userna...      0             0   \n",
              "1  d aww he matches this background colour i am s...      0             0   \n",
              "2  hey man i am really not trying to edit war it ...      0             0   \n",
              "3  more i cannot make any real suggestions on imp...      0             0   \n",
              "4  you sir are my hero any chance you remember wh...      0             0   \n",
              "\n",
              "   obscene  threat  insult  identity_hate  \n",
              "0        0       0       0              0  \n",
              "1        0       0       0              0  \n",
              "2        0       0       0              0  \n",
              "3        0       0       0              0  \n",
              "4        0       0       0              0  "
            ]
          },
          "metadata": {
            "tags": []
          },
          "execution_count": 4
        }
      ]
    },
    {
      "metadata": {
        "id": "qcATUDsiKSFG",
        "colab_type": "code",
        "outputId": "404aca0a-e365-429a-84e2-a20f10db6662",
        "colab": {
          "base_uri": "https://localhost:8080/",
          "height": 51
        }
      },
      "cell_type": "code",
      "source": [
        "print(numpy.where(pandas.isnull(data)))\n",
        "data['comment_text'].replace('', numpy.nan, inplace=True) # replace empty cell by nan number\n",
        "data.dropna(subset=['comment_text'], inplace=True)\n",
        "print(numpy.where(pandas.isnull(data)))"
      ],
      "execution_count": 0,
      "outputs": [
        {
          "output_type": "stream",
          "text": [
            "(array([ 4482,  6300, 17311, 52442, 53787, 61758, 82681]), array([0, 0, 0, 0, 0, 0, 0]))\n",
            "(array([], dtype=int64), array([], dtype=int64))\n"
          ],
          "name": "stdout"
        }
      ]
    },
    {
      "metadata": {
        "id": "1erQaB2rKjd5",
        "colab_type": "code",
        "outputId": "6a9fdf92-66eb-4abb-b71a-84867ee5e592",
        "colab": {
          "base_uri": "https://localhost:8080/",
          "height": 34
        }
      },
      "cell_type": "code",
      "source": [
        "from keras.preprocessing.text import Tokenizer\n",
        "from keras.preprocessing.sequence import pad_sequences"
      ],
      "execution_count": 0,
      "outputs": [
        {
          "output_type": "stream",
          "text": [
            "Using TensorFlow backend.\n"
          ],
          "name": "stderr"
        }
      ]
    },
    {
      "metadata": {
        "id": "zIP5aL7VKTd4",
        "colab_type": "code",
        "colab": {}
      },
      "cell_type": "code",
      "source": [
        "vocab_size = 40000\n",
        "tokenizer = Tokenizer(num_words= vocab_size)\n",
        "tokenizer.fit_on_texts(data['comment_text'])\n",
        "\n",
        "maxLen = 250\n",
        "sequences = tokenizer.texts_to_sequences(data['comment_text'])\n",
        "dd = pad_sequences(sequences, maxlen=maxLen)"
      ],
      "execution_count": 0,
      "outputs": []
    },
    {
      "metadata": {
        "id": "oWrXzKV-KyK3",
        "colab_type": "code",
        "outputId": "e88d2be6-0176-4b8f-c167-23fcac75904a",
        "colab": {
          "base_uri": "https://localhost:8080/",
          "height": 34
        }
      },
      "cell_type": "code",
      "source": [
        "print(dd.shape)"
      ],
      "execution_count": 0,
      "outputs": [
        {
          "output_type": "stream",
          "text": [
            "(159564, 250)\n"
          ],
          "name": "stdout"
        }
      ]
    },
    {
      "metadata": {
        "id": "YsFRJP-eLC1Y",
        "colab_type": "code",
        "colab": {}
      },
      "cell_type": "code",
      "source": [
        ""
      ],
      "execution_count": 0,
      "outputs": []
    },
    {
      "metadata": {
        "id": "qTykWSIaZ9cN",
        "colab_type": "code",
        "outputId": "f48e407f-4322-4f64-f8e0-12461450d4c3",
        "colab": {
          "base_uri": "https://localhost:8080/",
          "height": 153
        }
      },
      "cell_type": "code",
      "source": [
        "# label\n",
        "label = data[data.columns[1:]].values\n",
        "print(label.shape)\n",
        "print(label)"
      ],
      "execution_count": 0,
      "outputs": [
        {
          "output_type": "stream",
          "text": [
            "(159564, 6)\n",
            "[[0 0 0 0 0 0]\n",
            " [0 0 0 0 0 0]\n",
            " [0 0 0 0 0 0]\n",
            " ...\n",
            " [0 0 0 0 0 0]\n",
            " [0 0 0 0 0 0]\n",
            " [0 0 0 0 0 0]]\n"
          ],
          "name": "stdout"
        }
      ]
    },
    {
      "metadata": {
        "id": "sQUYWoNdcqFc",
        "colab_type": "code",
        "colab": {}
      },
      "cell_type": "code",
      "source": [
        "from keras.models import Sequential\n",
        "from keras.layers import Dense\n",
        "from keras.optimizers import Adam"
      ],
      "execution_count": 0,
      "outputs": []
    },
    {
      "metadata": {
        "id": "PyAbiAOSlVvd",
        "colab_type": "code",
        "colab": {}
      },
      "cell_type": "code",
      "source": [
        "# from keras.layers.embeddings import Embedding\n",
        "\n",
        "from keras.layers.embeddings import Embedding\n",
        "\n",
        "from keras.layers import Flatten, Conv1D, MaxPooling1D, Dropout, Activation, GlobalMaxPooling1D"
      ],
      "execution_count": 0,
      "outputs": []
    },
    {
      "metadata": {
        "id": "9xunZd7DQ9nB",
        "colab_type": "code",
        "colab": {}
      },
      "cell_type": "code",
      "source": [
        "import keras_metrics\n",
        "from sklearn.metrics import precision_score, recall_score"
      ],
      "execution_count": 0,
      "outputs": []
    },
    {
      "metadata": {
        "id": "gt1Dr1xhfOSe",
        "colab_type": "code",
        "outputId": "ec3f2a81-83a2-402f-c06e-29b034a4dc9f",
        "colab": {
          "base_uri": "https://localhost:8080/",
          "height": 139
        }
      },
      "cell_type": "code",
      "source": [
        "model_conv = Sequential()\n",
        "model_conv.add(Embedding(vocab_size, 100, input_length=maxLen))\n",
        "\n",
        "model_conv.add(Dropout(0.2))\n",
        "\n",
        "model_conv.add(Conv1D(100, 6, activation='relu'))\n",
        "model_conv.add(MaxPooling1D(pool_size=4))\n",
        "\n",
        "# model_conv.add(GlobalMaxPooling1D())\n",
        "model_conv.add(Dropout(0.2))\n",
        "\n",
        "model_conv.add(Conv1D(64, 6, activation='relu'))\n",
        "model_conv.add(MaxPooling1D(pool_size=4))\n",
        "\n",
        "# model_conv.add(GlobalMaxPooling1D())\n",
        "model_conv.add(Dropout(0.2))\n",
        "# model_conv.add(Conv1D(32, 4, activation='relu'))\n",
        "# model_conv.add(MaxPooling1D(pool_size=4))\n",
        "\n",
        "# model_conv.add(Conv1D(32, 4, activation='relu'))\n",
        "# model_conv.add(MaxPooling1D(pool_size=4))\n",
        "\n",
        "model_conv.add(Flatten())\n",
        "model_conv.add(Dense(64, activation='relu'))\n",
        "\n",
        "model_conv.add(Dropout(0.2))\n",
        "model_conv.add(Dense(64, activation='relu'))\n",
        "\n",
        "model_conv.add(Dropout(0.2))\n",
        "model_conv.add(Dense(1, activation='sigmoid'))\n",
        "\n",
        "#model_conv.compile(loss='binary_crossentropy', optimizer=Adam(lr=0.001), metrics=['accuracy'])\n",
        "model_conv.compile(loss='binary_crossentropy', optimizer=Adam(lr=0.1), metrics=['accuracy', keras_metrics.precision(), keras_metrics.recall()])#metrics=['accuracy'])\n",
        "# model_conv.compile(loss='binary_crossentropy', optimizer=Adam(lr=0.1), metrics=[keras_metrics.recall()])#metrics=['accuracy'])\n",
        "\n",
        "# model_conv.fit(padded_docs, label, epochs=2, validation_split=.2)"
      ],
      "execution_count": 0,
      "outputs": [
        {
          "output_type": "stream",
          "text": [
            "WARNING:tensorflow:From /usr/local/lib/python2.7/dist-packages/tensorflow/python/framework/op_def_library.py:263: colocate_with (from tensorflow.python.framework.ops) is deprecated and will be removed in a future version.\n",
            "Instructions for updating:\n",
            "Colocations handled automatically by placer.\n",
            "WARNING:tensorflow:From /usr/local/lib/python2.7/dist-packages/keras/backend/tensorflow_backend.py:3445: calling dropout (from tensorflow.python.ops.nn_ops) with keep_prob is deprecated and will be removed in a future version.\n",
            "Instructions for updating:\n",
            "Please use `rate` instead of `keep_prob`. Rate should be set to `rate = 1 - keep_prob`.\n"
          ],
          "name": "stdout"
        }
      ]
    },
    {
      "metadata": {
        "id": "VR_YSb7RRPoe",
        "colab_type": "code",
        "outputId": "f7f7aba4-1a31-45d8-9863-f8ec53ab02ae",
        "colab": {
          "base_uri": "https://localhost:8080/",
          "height": 68
        }
      },
      "cell_type": "code",
      "source": [
        "col = data.columns[1:]\n",
        "print(col)"
      ],
      "execution_count": 0,
      "outputs": [
        {
          "output_type": "stream",
          "text": [
            "Index([u'toxic', u'severe_toxic', u'obscene', u'threat', u'insult',\n",
            "       u'identity_hate'],\n",
            "      dtype='object')\n"
          ],
          "name": "stdout"
        }
      ]
    },
    {
      "metadata": {
        "id": "Dx6yuH_qRXAE",
        "colab_type": "code",
        "outputId": "5d776c16-8e9e-4e6a-fea6-63b8921c9c7a",
        "colab": {
          "base_uri": "https://localhost:8080/",
          "height": 119
        }
      },
      "cell_type": "code",
      "source": [
        "# model_nn.fit(train, label, epochs=2, validation_split=.2)\n",
        "\n",
        "# from sklearn.utils import class_weight\n",
        "from sklearn.utils import class_weight\n",
        "\n",
        "\n",
        "for i in range(6):\n",
        "    #print(label[:,i:].shape)\n",
        "    #print(label[:,i:])\n",
        "    print(col[i])\n",
        "    print(\"-------------------------------------------------------------------------------------------------------------------\")\n",
        "    l = label[:,i].reshape((len(label), 1))\n",
        "    print(l.shape)\n",
        "    \n",
        "    #class_weight = {0:0.0, 1:10}\n",
        "    #class_weight = class_weight.compute_class_weight('balanced', numpy.unique(l), l)\n",
        "    \n",
        "    sample_weights = class_weight.compute_sample_weight('balanced', l)\n",
        "\n",
        "    \n",
        "    model_conv.fit(dd, l, batch_size=512, epochs=2, validation_split=.2, sample_weight=sample_weights)\n",
        "    break"
      ],
      "execution_count": 0,
      "outputs": [
        {
          "output_type": "stream",
          "text": [
            "toxic\n",
            "-------------------------------------------------------------------------------------------------------------------\n",
            "(159564, 1)\n",
            "Train on 127651 samples, validate on 31913 samples\n",
            "Epoch 1/2\n",
            "117248/127651 [==========================>...] - ETA: 56s - loss: 8.0913 - acc: 0.9038 - precision: 0.0000e+00 - recall: 0.0000e+00"
          ],
          "name": "stdout"
        }
      ]
    },
    {
      "metadata": {
        "id": "P8EG8YV7Z-FD",
        "colab_type": "text"
      },
      "cell_type": "markdown",
      "source": [
        "**rough below**"
      ]
    }
  ]
}